{
  "nbformat": 4,
  "nbformat_minor": 0,
  "metadata": {
    "colab": {
      "name": "final_lexical.ipynb",
      "provenance": [],
      "mount_file_id": "1YpfiHN6g2iukisCJtnCKVSIrGg7MKggu",
      "authorship_tag": "ABX9TyMvLAahjEFInjK3sIvG7GCN",
      "include_colab_link": true
    },
    "kernelspec": {
      "name": "python3",
      "display_name": "Python 3"
    },
    "language_info": {
      "name": "python"
    }
  },
  "cells": [
    {
      "cell_type": "markdown",
      "metadata": {
        "id": "view-in-github",
        "colab_type": "text"
      },
      "source": [
        "<a href=\"https://colab.research.google.com/github/reviewsbymlet/LexicalAnalyzer-/blob/main/final_lexical.ipynb\" target=\"_parent\"><img src=\"https://colab.research.google.com/assets/colab-badge.svg\" alt=\"Open In Colab\"/></a>"
      ]
    },
    {
      "cell_type": "markdown",
      "source": [
        "# Importing dependencies "
      ],
      "metadata": {
        "id": "nibwgHjiAsQP"
      }
    },
    {
      "cell_type": "code",
      "execution_count": null,
      "metadata": {
        "id": "AYvYvOeA8KDP"
      },
      "outputs": [],
      "source": [
        "import sys\n",
        "import string"
      ]
    },
    {
      "cell_type": "markdown",
      "source": [
        "# Initializing Arrays"
      ],
      "metadata": {
        "id": "US5vFUTDA1-q"
      }
    },
    {
      "cell_type": "code",
      "source": [
        "#initializing the objects the lexical analyzer should detect\n",
        "keywords = ['IF','THEN','ELSE','GOTO']\n",
        "operators = ['=','+','>=','*','>']\n",
        "delimiters = [':','(',')']"
      ],
      "metadata": {
        "id": "DoeOQQmeBCgi"
      },
      "execution_count": null,
      "outputs": []
    },
    {
      "cell_type": "markdown",
      "source": [
        "# Pre Processing Function"
      ],
      "metadata": {
        "id": "Ljzeru9oBbvi"
      }
    },
    {
      "cell_type": "code",
      "source": [
        "file_path_pre = '/content/drive/MyDrive/ComputerScienceProjects/MyLexAnalyzer/preprocessing.txt'\n",
        "source_file_path = '/content/drive/MyDrive/ComputerScienceProjects/MyLexAnalyzer/source.txt'\n",
        "\n",
        "#Preprocessing function to remove unnecessary characters such as spaces and newlines in the file\n",
        "\n",
        "def preprocess(file_name):\n",
        "    try: #try except when an error occurs \n",
        "        fp_read = open(file_name,'r')   #Opening the file to be analyzed\n",
        "        fp_write = open(file_path_pre,'w')\n",
        "        flag = 0\n",
        "        while True:\n",
        "            read = fp_read.readline()   #Read a line of characters each time through the loop, for example/*example*/\n",
        "            if not read:\n",
        "                break         #End the loop if nothing is read\n",
        "            length = len(read)      #Get the length of the current string\n",
        "            i = -1\n",
        "            while i < length - 1:       #loop through each character\n",
        "                i+=1\n",
        "                if read[i] == ' ':     #If a space is read\n",
        "                    if flag == 1:\n",
        "                        continue\n",
        "                    else:\n",
        "                        flag = 1\n",
        "                        fp_write.write(' ')\n",
        "                elif read[i] == '\\t':    #If a tab character is read\n",
        "                    if flag == 1:\n",
        "                        continue\n",
        "                    else:\n",
        "                        flag = 1\n",
        "                        fp_write.write('')\n",
        "                elif read[i] == '\\n':   #If newline is read\n",
        "                    if flag == 1:\n",
        "                        continue\n",
        "                    else:\n",
        "                        flag = 1\n",
        "                        fp_write.write(' ')\n",
        "                elif read[i] == '/' and read[i+1] == '*':    #If /* is read, it is a comment symbol\n",
        "\n",
        "                        while True:\n",
        "                            if read[i] == '*' and read[i+1] == '/':\n",
        "                                break\n",
        "                            i = i + 1\n",
        "                        i = i + 1\n",
        "                elif read[i] == '\\\\':      #If a right slash is read, it is a double slash because the right slash is an escape character, \n",
        "                    break                  # and a double right slash is equal to the character right slash\n",
        "                else:       #if not one of the above, the characters are directly output\n",
        "                    fp_write.write(read[i])\n",
        "                    flag =0\n",
        "        fp_write.write('#')#output a # at the end\n",
        "    except Exception:\n",
        "        print(file_name,':This File not Found')\n"
      ],
      "metadata": {
        "id": "PcEwfBtLBlH3"
      },
      "execution_count": null,
      "outputs": []
    },
    {
      "cell_type": "code",
      "source": [
        "#pass the source file for preprocessing\n",
        "preprocess(source_file_path)"
      ],
      "metadata": {
        "id": "TvOeIsuAhwrb"
      },
      "execution_count": null,
      "outputs": []
    },
    {
      "cell_type": "code",
      "source": [
        "with open(source_file_path, 'r') as file_src:\n",
        "\n",
        "    my_separator = \" \"\n",
        "    File_Content = my_separator.join(file_src.readlines())\n",
        "print(File_Content)"
      ],
      "metadata": {
        "colab": {
          "base_uri": "https://localhost:8080/"
        },
        "id": "sKxDmuhaj-7D",
        "outputId": "4e366866-1ab7-410a-ccf3-fc8d3ccf5d62"
      },
      "execution_count": null,
      "outputs": [
        {
          "output_type": "stream",
          "name": "stdout",
          "text": [
            "/*example*/\n",
            "     b=1\\\n",
            " 00\n",
            " 101:a=2*(1+3)\n",
            "     IF(b>10) THEN\n",
            "         a=1\n",
            "     ELSE IF(b>=5) THEN\n",
            "         a=2\n",
            "     ELSE\n",
            "         GOTO 101\n"
          ]
        }
      ]
    },
    {
      "cell_type": "code",
      "source": [
        "with open(file_path_pre, 'r') as file1:\n",
        "    FileContent = file1.readlines()\n",
        "print(FileContent)"
      ],
      "metadata": {
        "colab": {
          "base_uri": "https://localhost:8080/"
        },
        "id": "6RnM5Komjtwn",
        "outputId": "97d12d5f-cfb9-470b-e251-905085a7772a"
      },
      "execution_count": null,
      "outputs": [
        {
          "output_type": "stream",
          "name": "stdout",
          "text": [
            "[' b=100 101:a=2*(1+3) IF(b>10) THEN a=1 ELSE IF(b>=5) THEN a=2 ELSE GOTO 101#']\n"
          ]
        }
      ]
    },
    {
      "cell_type": "markdown",
      "source": [
        "# Symbol Table"
      ],
      "metadata": {
        "id": "Idc22eNHiEcR"
      }
    },
    {
      "cell_type": "code",
      "source": [
        "symboltable_file_path = '/content/drive/MyDrive/ComputerScienceProjects/MyLexAnalyzer/symboltable.txt'"
      ],
      "metadata": {
        "id": "Hy8LhDFbiHbE"
      },
      "execution_count": null,
      "outputs": []
    },
    {
      "cell_type": "code",
      "source": [
        "#K: Keyword I: Identifier C: Constant O: Operator P: Delimiter L: Label\n",
        "def process(file_name):\n",
        "        fp_read=open(file_name,'r')\n",
        "        fp_write=open(symboltable_file_path,'w')\n",
        "        lines = fp_read.readlines()\n",
        "        i = -1\n",
        "        for line in lines:\n",
        "            length = len(line)\n",
        "            while  i < length - 1:\n",
        "                i+=1\n",
        "                if line[i] == ' ':\n",
        "                    continue\n",
        "                if line[i] in delimiters:\n",
        "                    print('(P,',line[i],')',file=fp_write)\n",
        "                    continue\n",
        "                if line[i] in operators:\n",
        "                    if line[i-1] in operators:\n",
        "                        continue\n",
        "                    print('(O,',end='',file=fp_write)\n",
        "                    if line[i+1] in operators:\n",
        "                        print(line[i],line[i+1],')',sep='',file=fp_write)\n",
        "                    else:\n",
        "                        print(line[i],')',file=fp_write)\n",
        "                    continue\n",
        " #               if line[i-1].isdigit():\n",
        "  #                  continue\n",
        "                if line[i].isdigit():\n",
        "                    t = i                 #reserve the current value of i in t\n",
        "                    while line[i].isdigit():\n",
        "                        i+=1\n",
        "                    if line[i] == ':' or line[i] == '#':  #check if the number is a label\n",
        "                        print('(L,',end='',file=fp_write)\n",
        "                    else:\n",
        "                        print('(C,',end='',file=fp_write)\n",
        "                    i = t                \n",
        "                    while line[i].isdigit():\n",
        "                        print(line[i],end='',file=fp_write)\n",
        "                        i+=1\n",
        "                    print(')',file=fp_write)\n",
        "                    i-=1\n",
        "                    continue\n",
        "                j = 0\n",
        "                temp = ''    #Determining keywords and identifiers\n",
        "                while True:\n",
        "                    if  line[i] == ' ' or line[i] in operators or line[i] in delimiters:\n",
        "                        break\n",
        "                    else:\n",
        "                        j+=1\n",
        "                    i+=1\n",
        "                    if i > length -1:\n",
        "                        break\n",
        "                temp = line[i-j:i]\n",
        "                if temp in keywords:\n",
        "                    print('(K,',temp,')',file=fp_write)\n",
        "                else:\n",
        "                    if temp == '#':\n",
        "                        continue\n",
        "                    print('(I,',temp,')',file=fp_write)\n",
        "                i-=1"
      ],
      "metadata": {
        "id": "1Ut5v4qsiqfw"
      },
      "execution_count": null,
      "outputs": []
    },
    {
      "cell_type": "code",
      "source": [
        "#pass the preprocessing for symbol table creation\n",
        "process(file_path_pre)"
      ],
      "metadata": {
        "id": "Tbf2Jgz1k8HV"
      },
      "execution_count": null,
      "outputs": []
    },
    {
      "cell_type": "code",
      "source": [
        "with open(symboltable_file_path, 'r') as file_table:\n",
        "\n",
        "    my_separator = \" \"\n",
        "    File_Content_table = my_separator.join(file_table.readlines())\n",
        "print(File_Content_table)"
      ],
      "metadata": {
        "colab": {
          "base_uri": "https://localhost:8080/"
        },
        "id": "ljjm7B83lWvw",
        "outputId": "eba34ee5-935c-4932-92fc-392485714ee5"
      },
      "execution_count": null,
      "outputs": [
        {
          "output_type": "stream",
          "name": "stdout",
          "text": [
            "(I, b )\n",
            " (O,= )\n",
            " (C,100)\n",
            " (L,101)\n",
            " (P, : )\n",
            " (I, a )\n",
            " (O,= )\n",
            " (C,2)\n",
            " (O,* )\n",
            " (P, ( )\n",
            " (C,1)\n",
            " (O,+ )\n",
            " (C,3)\n",
            " (P, ) )\n",
            " (K, IF )\n",
            " (P, ( )\n",
            " (I, b )\n",
            " (O,> )\n",
            " (C,10)\n",
            " (P, ) )\n",
            " (K, THEN )\n",
            " (I, a )\n",
            " (O,= )\n",
            " (C,1)\n",
            " (K, ELSE )\n",
            " (K, IF )\n",
            " (P, ( )\n",
            " (I, b )\n",
            " (O,>=)\n",
            " (C,5)\n",
            " (P, ) )\n",
            " (K, THEN )\n",
            " (I, a )\n",
            " (O,= )\n",
            " (C,2)\n",
            " (K, ELSE )\n",
            " (K, GOTO )\n",
            " (L,101)\n",
            "\n"
          ]
        }
      ]
    }
  ]
}